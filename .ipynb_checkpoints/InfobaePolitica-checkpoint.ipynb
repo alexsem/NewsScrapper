{
 "cells": [
  {
   "cell_type": "code",
   "execution_count": null,
   "metadata": {},
   "outputs": [],
   "source": [
    "%config IPCompleter.greedy=True"
   ]
  },
  {
   "cell_type": "code",
   "execution_count": null,
   "metadata": {},
   "outputs": [],
   "source": [
    "from requests import get\n",
    "from bs4 import BeautifulSoup\n",
    "import pymongo\n",
    "import datetime\n",
    "import numpy as np\n",
    "import re\n",
    "from time import sleep"
   ]
  },
  {
   "cell_type": "code",
   "execution_count": null,
   "metadata": {},
   "outputs": [],
   "source": [
    "rawHTML = get('https://www.infobae.com/politica')\n",
    "rawHTML = rawHTML.text.split('pb-container')\n",
    "html = BeautifulSoup(rawHTML[3], 'html.parser')"
   ]
  },
  {
   "cell_type": "code",
   "execution_count": null,
   "metadata": {},
   "outputs": [],
   "source": [
    "allNews = html.find_all('a', href=True)#(attrs={'class':'col-sm-8'})\n",
    "\n",
    "cursorNews = []\n",
    "\n",
    "for link in allNews:\n",
    "    if ('https://www.infobae.com' + link['href']) not in cursorNews and link['href'] != 'https://www.infobae.com/ultimas-noticias/':\n",
    "        cursorNews.append('https://www.infobae.com' + link['href'])"
   ]
  },
  {
   "cell_type": "code",
   "execution_count": null,
   "metadata": {},
   "outputs": [],
   "source": [
    "myclient = pymongo.MongoClient(\"mongodb://localhost:27017/\")\n",
    "mydb = myclient[\"DiarioStage\"]\n",
    "mycol = mydb.Infobae\n",
    "\n",
    "currentDate = datetime.datetime.now().date()\n",
    "mongoCurrentDate = datetime.datetime(currentDate.year, currentDate.month, currentDate.day,0,0,0)\n",
    "\n",
    "select = mycol.find({\"date\": {\"$gte\": mongoCurrentDate}})"
   ]
  },
  {
   "cell_type": "code",
   "execution_count": null,
   "metadata": {},
   "outputs": [],
   "source": [
    "cursorNews"
   ]
  },
  {
   "cell_type": "code",
   "execution_count": null,
   "metadata": {},
   "outputs": [],
   "source": [
    "for news in cursorNews:\n",
    "    try:\n",
    "        rawHTML = get(news)\n",
    "        html = BeautifulSoup(rawHTML.content, 'html.parser')\n",
    "        title = html.find('title').text\n",
    "        shorttext = html.find(attrs={'class':'subheadline'}).text\n",
    "        date = html.find(attrs={'class':'byline-date'}).text\n",
    "        fulltext = \"\"\n",
    "        tags = []\n",
    "\n",
    "\n",
    "        p_all = set(html.find_all('p'))\n",
    "        p_to_remove = set(html.find_all('p', attrs={\"class\":\"\"}))\n",
    "\n",
    "        p_needed = p_all - p_to_remove\n",
    "\n",
    "        for p in p_needed:\n",
    "            fulltext = fulltext + p.text\n",
    "\n",
    "        for story_tag in html.find_all(class_='story-tag'):\n",
    "            tags.append(story_tag.text)\n",
    "\n",
    "        dayRange = re.search(\"\\d\", date)\n",
    "        year = date[-5:]\n",
    "\n",
    "        if \"Enero\" or \"enero\" in date: month = \"01\"\n",
    "        if \"Febrero\" or \"febrero\" in date: month = \"02\"\n",
    "        if \"Marzo\" or \"marzo\" in date: month = \"03\"\n",
    "        if \"Abril\" or \"abril\" in date: month = \"04\"\n",
    "        if \"Mayo\" or \"mayo\" in date: month = \"05\"\n",
    "        if \"Junio\" or \"junio\" in date: month = \"06\"\n",
    "        if \"Julio\" or \"julio\" in date: month = \"07\"\n",
    "        if \"Agosto\" or \"agosto\" in date: month = \"08\"\n",
    "        if \"Septiembre\" or \"septiembre\" in date: month = \"09\"\n",
    "        if \"Octubre\" or \"octubre\" in date: month = \"10\"\n",
    "        if \"Noviembre\" or \"noviembre\" in date: month = \"11\"\n",
    "        if \"Diciembre\" or \"diciembre\" in date: month = \"12\"\n",
    "\n",
    "        correctedDate = datetime.datetime(int(year), int(month), int(date[dayRange.start() : dayRange.end() + 1]),3,0,0)\n",
    "\n",
    "        mykey = {\"title\": title}\n",
    "        mydict = {\"fulltext\": fulltext, \"shorttext\": shorttext, \"tags\": tags, \"date\": correctedDate}\n",
    "\n",
    "        x = mycol.update_one(mykey, {'$set' : mydict}, upsert=True)\n",
    "\n",
    "        sleep(1)\n",
    "    except:\n",
    "        print(news)"
   ]
  },
  {
   "cell_type": "code",
   "execution_count": null,
   "metadata": {},
   "outputs": [],
   "source": []
  }
 ],
 "metadata": {
  "kernelspec": {
   "display_name": "Python 3",
   "language": "python",
   "name": "python3"
  },
  "language_info": {
   "codemirror_mode": {
    "name": "ipython",
    "version": 3
   },
   "file_extension": ".py",
   "mimetype": "text/x-python",
   "name": "python",
   "nbconvert_exporter": "python",
   "pygments_lexer": "ipython3",
   "version": "3.7.6"
  }
 },
 "nbformat": 4,
 "nbformat_minor": 2
}
