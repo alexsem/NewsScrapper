{
 "cells": [
  {
   "cell_type": "code",
   "execution_count": null,
   "metadata": {},
   "outputs": [],
   "source": [
    "%config IPCompleter.greedy=True"
   ]
  },
  {
   "cell_type": "code",
   "execution_count": null,
   "metadata": {},
   "outputs": [],
   "source": [
    "from requests import get\n",
    "from requests.exceptions import RequestException\n",
    "from contextlib import closing\n",
    "from bs4 import BeautifulSoup"
   ]
  },
  {
   "cell_type": "code",
   "execution_count": null,
   "metadata": {},
   "outputs": [],
   "source": [
    "rawHTML = get('https://www.infobae.com/politica/2018/11/21/miguel-angel-pichetto-no-soy-el-bolsonaro-argentino/')"
   ]
  },
  {
   "cell_type": "code",
   "execution_count": null,
   "metadata": {},
   "outputs": [],
   "source": [
    "html = BeautifulSoup(rawHTML.content, 'html.parser')"
   ]
  },
  {
   "cell_type": "code",
   "execution_count": null,
   "metadata": {
    "scrolled": true
   },
   "outputs": [],
   "source": [
    "html.prettify()"
   ]
  },
  {
   "cell_type": "code",
   "execution_count": null,
   "metadata": {},
   "outputs": [],
   "source": [
    "import numpy as np\n",
    "\n",
    "title = html.find('title').text\n",
    "shorttext = html.find(attrs={'class':'subheadline'}).text\n",
    "date = html.find(attrs={'class':'byline-date'}).text\n",
    "fulltext = \"\"\n",
    "tags = []\n",
    "\n",
    "p_all = set(html.find_all('p'))\n",
    "p_to_remove = set(html.find_all('p', attrs={\"class\":\"\"}))\n",
    "\n",
    "p_needed = p_all - p_to_remove\n",
    "\n",
    "for p in p_needed:\n",
    "    fulltext = fulltext + p.text\n",
    "    \n",
    "for story_tag in html.find_all(class_='story-tag'):\n",
    "    tags.append(story_tag.text)\n",
    "\n",
    "#print(title)\n",
    "#print(fulltext)\n",
    "#print(shorttext)\n",
    "#print(tags)\n",
    "#print(date)"
   ]
  },
  {
   "cell_type": "code",
   "execution_count": null,
   "metadata": {},
   "outputs": [],
   "source": [
    "import re\n",
    "from datetime import datetime\n",
    "\n",
    "dayRange = re.search(\"\\d\", date)\n",
    "year = date[-5:]\n",
    "\n",
    "if \"Enero\" in date: month = \"01\"\n",
    "if \"Febrero\" in date: month = \"02\"\n",
    "if \"Marzo\" in date: month = \"03\"\n",
    "if \"Abril\" in date: month = \"04\"\n",
    "if \"Mayo\" in date: month = \"05\"\n",
    "if \"Junio\" in date: month = \"06\"\n",
    "if \"Julio\" in date: month = \"07\"\n",
    "if \"Agosto\" in date: month = \"08\"\n",
    "if \"Septiembre\" in date: month = \"09\"\n",
    "if \"Octubre\" in date: month = \"10\"\n",
    "if \"Noviembre\" in date: month = \"11\"\n",
    "if \"Diciembre\" in date: month = \"12\"\n",
    "    \n",
    "correctedDate = datetime(int(year), int(month), int(date[dayRange.start() : dayRange.end() + 1]),3,0,0)\n",
    "print(correctedDate)\n"
   ]
  },
  {
   "cell_type": "code",
   "execution_count": null,
   "metadata": {},
   "outputs": [],
   "source": [
    "import pymongo\n",
    "\n",
    "myclient = pymongo.MongoClient(\"mongodb://localhost:27017/\")\n",
    "mydb = myclient[\"DiarioStage\"]\n",
    "mycol = mydb.Infobae\n",
    "\n",
    "mykey = {\"title\": title}\n",
    "mydict = {\"fulltext\": fulltext, \"shorttext\": shorttext, \"tags\": tags, \"date\": correctedDate}\n",
    "\n",
    "x = mycol.update_one(mykey, {'$set' : mydict}, upsert=True)"
   ]
  },
  {
   "cell_type": "code",
   "execution_count": null,
   "metadata": {},
   "outputs": [],
   "source": []
  }
 ],
 "metadata": {
  "kernelspec": {
   "display_name": "Python 3",
   "language": "python",
   "name": "python3"
  },
  "language_info": {
   "codemirror_mode": {
    "name": "ipython",
    "version": 3
   },
   "file_extension": ".py",
   "mimetype": "text/x-python",
   "name": "python",
   "nbconvert_exporter": "python",
   "pygments_lexer": "ipython3",
   "version": "3.7.6"
  }
 },
 "nbformat": 4,
 "nbformat_minor": 2
}
