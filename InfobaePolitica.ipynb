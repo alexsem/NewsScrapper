{
 "cells": [
  {
   "cell_type": "code",
   "execution_count": 19,
   "metadata": {},
   "outputs": [],
   "source": [
    "%config IPCompleter.greedy=True"
   ]
  },
  {
   "cell_type": "code",
   "execution_count": 28,
   "metadata": {},
   "outputs": [],
   "source": [
    "from requests import get\n",
    "from bs4 import BeautifulSoup\n",
    "import pymongo\n",
    "import datetime\n",
    "import numpy as np\n",
    "import re\n",
    "from time import sleep"
   ]
  },
  {
   "cell_type": "code",
   "execution_count": 40,
   "metadata": {},
   "outputs": [],
   "source": [
    "rawHTML = get('https://www.infobae.com/politica')\n",
    "rawHTML = rawHTML.text.split('pb-container')\n",
    "html = BeautifulSoup(rawHTML[3], 'html.parser')"
   ]
  },
  {
   "cell_type": "code",
   "execution_count": 43,
   "metadata": {},
   "outputs": [],
   "source": [
    "allNews = html.find_all('a', href=True)#(attrs={'class':'col-sm-8'})\n",
    "\n",
    "cursorNews = []\n",
    "\n",
    "for link in allNews:\n",
    "    if ('https://www.infobae.com' + link['href']) not in cursorNews and link['href'] != 'https://www.infobae.com/ultimas-noticias/':\n",
    "        cursorNews.append('https://www.infobae.com' + link['href'])"
   ]
  },
  {
   "cell_type": "code",
   "execution_count": 23,
   "metadata": {},
   "outputs": [],
   "source": [
    "myclient = pymongo.MongoClient(\"mongodb://localhost:27017/\")\n",
    "mydb = myclient[\"DiarioStage\"]\n",
    "mycol = mydb.Infobae\n",
    "\n",
    "currentDate = datetime.datetime.now().date()\n",
    "mongoCurrentDate = datetime.datetime(currentDate.year, currentDate.month, currentDate.day,0,0,0)\n",
    "\n",
    "select = mycol.find({\"date\": {\"$gte\": mongoCurrentDate}})"
   ]
  },
  {
   "cell_type": "code",
   "execution_count": 44,
   "metadata": {},
   "outputs": [
    {
     "data": {
      "text/plain": [
       "['https://www.infobae.com/politica/2018/11/30/como-funciona-aeroparque-y-cuantos-aviones-llegaron-desde-que-comenzo-el-g20/',\n",
       " 'https://www.infobae.com/noticias/2018/11/29/la-justicia-determino-que-santiago-maldonado-murio-ahogado-en-el-rio-y-no-fue-victima-de-una-desaparicion-forzada/',\n",
       " 'https://www.infobae.com/politica/2018/11/29/gabriela-michetti-conto-que-fallo-en-la-recepcion-de-emmanuel-macron-en-ezeiza/',\n",
       " 'https://www.infobae.com/politica/2018/11/29/el-juez-hornos-expondra-en-una-jornada-por-los-70-anos-de-la-declaracion-universal-de-derechos-humanos/',\n",
       " 'https://www.infobae.com/politica/2018/11/29/juan-manuel-urtubey-y-gustavo-bordet-avanzaron-en-el-diseno-de-una-alternativa-politica-para-el-2019/',\n",
       " 'https://www.infobae.com/politica/2018/11/29/cuatro-motochorros-le-robaron-al-diputado-nacional-mario-negri/',\n",
       " 'https://www.infobae.com/politica/2018/11/29/la-familia-de-santiago-maldonado-aseguro-que-el-juez-lleral-les-dijo-que-fue-apretado-y-extorsionado-para-cerrar-la-causa/',\n",
       " 'https://www.infobae.com/politica/2018/11/29/la-ciudad-aprobo-el-presupuesto-2019-deficit-cero-aumento-del-abl-y-menos-inversion-en-obras/',\n",
       " 'https://www.infobae.com/politica/2018/11/29/el-estado-recupero-un-predio-millonario-que-fue-privatizado-durante-el-menemismo/',\n",
       " 'https://www.infobae.com/politica/2018/11/29/ara-san-juan-procesaron-a-cuatro-funcionarios-por-irregularidades-con-una-empresa/',\n",
       " 'https://www.infobae.com/politica/2018/11/29/el-buque-que-encontro-al-ara-san-juan-llego-a-sudafrica-y-la-jueza-recibira-el-martes-las-67-000-imagenes-del-submarino/',\n",
       " 'https://www.infobae.com/politica/2018/11/28/elaskar-farina-me-dijo-que-compraba-sgi-con-dinero-del-senor-baez/',\n",
       " 'https://www.infobae.com/politica/2018/11/28/las-organizaciones-anti-g20-podran-marchar-por-el-centro-pero-con-los-rostros-descubiertos-y-sin-elementos-de-violencia/',\n",
       " 'https://www.infobae.com/politica/2017/12/14/sherpas-troika-y-canales-el-glosario-ilustrado-para-entender-que-es-y-como-funciona-el-g20/',\n",
       " 'https://www.infobae.com/politica/2018/11/28/julio-barbaro-presento-su-libro-y-hablo-de-los-suenos-despedazados-de-la-argentina/',\n",
       " 'https://www.infobae.com/politica/2018/11/28/infobae-recibira-cuatro-premios-adepa/',\n",
       " 'https://www.infobae.com/politica/2018/11/28/prohibieron-que-un-familiar-de-un-sindicalista-condenado-por-lavado-venda-una-propiedad-en-punta-del-este/',\n",
       " 'https://www.infobae.com/politica/2018/11/28/maria-eugenia-vidal-anuncio-que-el-bono-de-7000-para-los-estatales-tambien-lo-recibiran-los-docentes-bonaerenses/',\n",
       " 'https://www.infobae.com/politica/2018/11/28/ingreso-a-la-camara-de-diputados-el-proyecto-contra-los-barrabravas-que-sera-debatido-en-las-sesiones-extraordinarias/',\n",
       " 'https://www.infobae.com/politica/2018/11/28/manifestantes-cortan-la-avenida-9-de-julio/']"
      ]
     },
     "execution_count": 44,
     "metadata": {},
     "output_type": "execute_result"
    }
   ],
   "source": [
    "cursorNews"
   ]
  },
  {
   "cell_type": "code",
   "execution_count": 45,
   "metadata": {},
   "outputs": [],
   "source": [
    "for news in cursorNews:\n",
    "    try:\n",
    "        rawHTML = get(news)\n",
    "        html = BeautifulSoup(rawHTML.content, 'html.parser')\n",
    "        title = html.find('title').text\n",
    "        shorttext = html.find(attrs={'class':'subheadline'}).text\n",
    "        date = html.find(attrs={'class':'byline-date'}).text\n",
    "        fulltext = \"\"\n",
    "        tags = []\n",
    "\n",
    "\n",
    "        p_all = set(html.find_all('p'))\n",
    "        p_to_remove = set(html.find_all('p', attrs={\"class\":\"\"}))\n",
    "\n",
    "        p_needed = p_all - p_to_remove\n",
    "\n",
    "        for p in p_needed:\n",
    "            fulltext = fulltext + p.text\n",
    "\n",
    "        for story_tag in html.find_all(class_='story-tag'):\n",
    "            tags.append(story_tag.text)\n",
    "\n",
    "        dayRange = re.search(\"\\d\", date)\n",
    "        year = date[-5:]\n",
    "\n",
    "        if \"Enero\" or \"enero\" in date: month = \"01\"\n",
    "        if \"Febrero\" or \"febrero\" in date: month = \"02\"\n",
    "        if \"Marzo\" or \"marzo\" in date: month = \"03\"\n",
    "        if \"Abril\" or \"abril\" in date: month = \"04\"\n",
    "        if \"Mayo\" or \"mayo\" in date: month = \"05\"\n",
    "        if \"Junio\" or \"junio\" in date: month = \"06\"\n",
    "        if \"Julio\" or \"julio\" in date: month = \"07\"\n",
    "        if \"Agosto\" or \"agosto\" in date: month = \"08\"\n",
    "        if \"Septiembre\" or \"septiembre\" in date: month = \"09\"\n",
    "        if \"Octubre\" or \"octubre\" in date: month = \"10\"\n",
    "        if \"Noviembre\" or \"noviembre\" in date: month = \"11\"\n",
    "        if \"Diciembre\" or \"diciembre\" in date: month = \"12\"\n",
    "\n",
    "        correctedDate = datetime.datetime(int(year), int(month), int(date[dayRange.start() : dayRange.end() + 1]),3,0,0)\n",
    "\n",
    "        mykey = {\"title\": title}\n",
    "        mydict = {\"fulltext\": fulltext, \"shorttext\": shorttext, \"tags\": tags, \"date\": correctedDate}\n",
    "\n",
    "        x = mycol.update_one(mykey, {'$set' : mydict}, upsert=True)\n",
    "\n",
    "        sleep(1)\n",
    "    except:\n",
    "        print(news)"
   ]
  },
  {
   "cell_type": "code",
   "execution_count": null,
   "metadata": {},
   "outputs": [],
   "source": []
  }
 ],
 "metadata": {
  "kernelspec": {
   "display_name": "Python 3",
   "language": "python",
   "name": "python3"
  },
  "language_info": {
   "codemirror_mode": {
    "name": "ipython",
    "version": 3
   },
   "file_extension": ".py",
   "mimetype": "text/x-python",
   "name": "python",
   "nbconvert_exporter": "python",
   "pygments_lexer": "ipython3",
   "version": "3.7.0"
  }
 },
 "nbformat": 4,
 "nbformat_minor": 2
}
